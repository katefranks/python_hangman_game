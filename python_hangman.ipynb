{
 "cells": [
  {
   "cell_type": "code",
   "execution_count": null,
   "id": "17d4508c",
   "metadata": {},
   "outputs": [],
   "source": [
    "def hangman():\n",
    "    word = \"dulce\"\n",
    "    guesses = \"\"\n",
    "    turns = 10\n",
    "    failed = 0\n",
    "\n",
    "    while turns > 0:\n",
    "        guess = input(\"Guess a letter! \")\n",
    "        if guess in word:\n",
    "            failed = 0\n",
    "            turns -= 1\n",
    "            guesses += guess\n",
    "            print(f\"Good guess! You have {turns} guesses left. {guesses}\")\n",
    "        elif guess not in word:\n",
    "            failed += 1\n",
    "            turns -= 1\n",
    "            guesses += \"-\"\n",
    "            print(f\"Wrong! Guess again! You have {turns} guesses left. {guesses}\")\n",
    "        if turns == 0:\n",
    "            print(\"You are out of guesses!\")\n",
    "hangman()"
   ]
  },
  {
   "cell_type": "code",
   "execution_count": null,
   "id": "0169b7e7",
   "metadata": {},
   "outputs": [],
   "source": []
  }
 ],
 "metadata": {
  "kernelspec": {
   "display_name": "Python 3",
   "language": "python",
   "name": "python3"
  },
  "language_info": {
   "codemirror_mode": {
    "name": "ipython",
    "version": 3
   },
   "file_extension": ".py",
   "mimetype": "text/x-python",
   "name": "python",
   "nbconvert_exporter": "python",
   "pygments_lexer": "ipython3",
   "version": "3.9.5"
  }
 },
 "nbformat": 4,
 "nbformat_minor": 5
}

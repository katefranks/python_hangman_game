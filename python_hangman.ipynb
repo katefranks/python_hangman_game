{
 "cells": [
  {
   "cell_type": "code",
   "execution_count": null,
   "id": "17d4508c",
   "metadata": {},
   "outputs": [],
   "source": [
    "def hangman():\n",
    "    word = \"dulce\"\n",
    "    word_list = [\"d\", \"u\", \"l\", \"c\", \"e\"]\n",
    "    word_list2 = [\"_\", \"_\", \"_\", \"_\", \"_\"]\n",
    "    guesses = \"\"\n",
    "    turns = 10\n",
    "    failed = 0\n",
    "\n",
    "\n",
    "    while turns > 0:\n",
    "        guess = input(\"Guess a letter! \")\n",
    "        if guess in word:\n",
    "            failed = 0\n",
    "            turns -= 1\n",
    "            guesses += guess\n",
    "            print(f\"Good guess! You have {turns} guesses left. Current guesses: {guesses}\")\n",
    "            # print(word_list2)\n",
    "\n",
    "\n",
    "            for index, char in enumerate(word_list):\n",
    "                # if the char is the guess\n",
    "                # then update the index in the word_list2 to be that char\n",
    "                if char == guess:\n",
    "                    word_list2[index] = guess\n",
    "                    print(word_list2)\n",
    "\n",
    "\n",
    "\n",
    "\n",
    "\n",
    "        elif guess not in word:\n",
    "            failed += 1\n",
    "            turns -= 1\n",
    "            guesses += guess\n",
    "            print(f\"Wrong! Guess again! You have {turns} guesses left. Current guesses: {guesses}\")\n",
    "            print(word_list2)\n",
    "\n",
    "        if word_list2 == word_list:\n",
    "            print(\"You won the game! \\U0001F929\")\n",
    "\n",
    "        if turns < 1:\n",
    "            print(\"You are out of guesses! Game over! \\U0001F622\")\n",
    "\n",
    "\n",
    "\n",
    "        # if turns != 0 and failed == 0:\n",
    "        #     print(\"You win!\")\n",
    "hangman()\n"
   ]
  },
  {
   "cell_type": "code",
   "execution_count": null,
   "id": "0169b7e7",
   "metadata": {},
   "outputs": [],
   "source": []
  },
  {
   "cell_type": "code",
   "execution_count": null,
   "id": "8dd250d7",
   "metadata": {},
   "outputs": [],
   "source": []
  },
  {
   "cell_type": "code",
   "execution_count": null,
   "id": "90ee4a12",
   "metadata": {},
   "outputs": [],
   "source": []
  }
 ],
 "metadata": {
  "kernelspec": {
   "display_name": "Python 3",
   "language": "python",
   "name": "python3"
  },
  "language_info": {
   "codemirror_mode": {
    "name": "ipython",
    "version": 3
   },
   "file_extension": ".py",
   "mimetype": "text/x-python",
   "name": "python",
   "nbconvert_exporter": "python",
   "pygments_lexer": "ipython3",
   "version": "3.9.5"
  }
 },
 "nbformat": 4,
 "nbformat_minor": 5
}
